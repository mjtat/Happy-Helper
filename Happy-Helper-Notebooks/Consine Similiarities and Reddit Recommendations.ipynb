{
 "cells": [
  {
   "cell_type": "markdown",
   "metadata": {
    "collapsed": true
   },
   "source": [
    "## This notebook goes over how I derived cosine similarities between user input and reddit posts.##\n",
    "\n",
    "**Notably, I made use of the useful reddit api `praw` to scrape reddit of new posts, and did little NLP on those posts.**"
   ]
  },
  {
   "cell_type": "code",
   "execution_count": 1,
   "metadata": {
    "collapsed": true
   },
   "outputs": [],
   "source": [
    "import os\n",
    "import requests\n",
    "import operator\n",
    "import string\n",
    "import re\n",
    "import nltk\n",
    "import numpy as np\n",
    "import praw\n",
    "import pandas as pd\n",
    "\n",
    "from nltk.stem.porter import PorterStemmer\n",
    "from sklearn.feature_extraction.text import TfidfVectorizer\n",
    "from nltk.corpus import stopwords\n",
    "#-*- coding: utf-8 -*-"
   ]
  },
  {
   "cell_type": "markdown",
   "metadata": {},
   "source": [
    "**Create a function to use the reddit api, `praw`.**"
   ]
  },
  {
   "cell_type": "code",
   "execution_count": 2,
   "metadata": {
    "collapsed": false
   },
   "outputs": [],
   "source": [
    "def reddit_api(id, secret_id, user_agent, username, password):\n",
    "    reddit = praw.Reddit(client_id=id,\n",
    "                         client_secret=secret_id,\n",
    "                         user_agent=user_agent,\n",
    "                         username=username,\n",
    "                         password=password)\n",
    "    return reddit\n",
    "\n",
    "reddit = reddit_api('id', \n",
    "                    'secret_id', \n",
    "                    'Mental Health Script by /u/tatinthehat',\n",
    "                    'tatinthehat',\n",
    "                    'password')"
   ]
  },
  {
   "cell_type": "markdown",
   "metadata": {},
   "source": [
    "**Create a set of empty lists to populate for later.**"
   ]
  },
  {
   "cell_type": "code",
   "execution_count": 3,
   "metadata": {
    "collapsed": true
   },
   "outputs": [],
   "source": [
    "self_text = []\n",
    "url = []\n",
    "title = []\n",
    "comment_num = []"
   ]
  },
  {
   "cell_type": "markdown",
   "metadata": {},
   "source": [
    "**Crawl a subreddit (here, /r/anxiety) for all title, submissions, urls, selftext, and the number of comments, append them to the appropriate empty list.**"
   ]
  },
  {
   "cell_type": "code",
   "execution_count": 4,
   "metadata": {
    "collapsed": true
   },
   "outputs": [],
   "source": [
    "def(subreddit, limit):\n",
    "subreddit = 'anxiety'\n",
    "limit = 50\n",
    "for submission in reddit.subreddit(subreddit).hot(limit=limit):\n",
    "    if submission.selftext != '':\n",
    "        title.append(submission.title)\n",
    "        url.append(submission.url)\n",
    "        self_text.append(submission.selftext)\n",
    "        comment_num.append(submission.num_comments)"
   ]
  },
  {
   "cell_type": "markdown",
   "metadata": {},
   "source": [
    "**Create a function to generate a set of custom stop words.**"
   ]
  },
  {
   "cell_type": "code",
   "execution_count": 5,
   "metadata": {
    "collapsed": false
   },
   "outputs": [],
   "source": [
    "def custom_stop():\n",
    "    custom_stop = stopwords.words('english')\n",
    "    del custom_stop[109:112]\n",
    "    custom_stop = set(custom_stop)\n",
    "    etc_stop = set(('\\'ve', '[', ']', '\\[\\]', '\\'s', '\\'m', 'n\\'t', '``', '\\\\n', '.', '\\.', '...', '-', '\\'\\'', '(', ')', 'm', 's', 've', ',', ':', '*', '@', '!', '$', '%', '&', '?', '\\'', '\\\"', '\\\"m', '\\\"n\\'t\\\"', ' ','removed', 'deleted', '[]','0', 'te'))\n",
    "    stop_words = custom_stop.union(etc_stop)\n",
    "    return stop_words\n",
    "\n",
    "stop_words = custom_stop()"
   ]
  },
  {
   "cell_type": "markdown",
   "metadata": {},
   "source": [
    "** Use the lists we populated, create a data frame with them, remove stopwords and tokenize text.**"
   ]
  },
  {
   "cell_type": "code",
   "execution_count": 6,
   "metadata": {
    "collapsed": false
   },
   "outputs": [],
   "source": [
    "posts = pd.DataFrame({'title': title, 'url': url, 'selftext': self_text, 'number': comment_num })\n",
    "def df_processing(df):\n",
    "    df['tokenized_selftext'] = df.apply(lambda row: nltk.word_tokenize(row['selftext']), axis=1)\n",
    "    df['tokenized_selftext'] = df['tokenized_selftext'].apply(lambda x: [item for item in x if item not in stop_words])\n",
    "    df['stemmed_selftext'] = df.apply(lambda row: nltk.word_tokenize(row['selftext']), axis=1)\n",
    "    return df\n",
    "\n",
    "posts = df_processing(posts)\n",
    "posts = posts.reset_index(drop = True)"
   ]
  },
  {
   "cell_type": "code",
   "execution_count": 7,
   "metadata": {
    "collapsed": false
   },
   "outputs": [
    {
     "data": {
      "text/html": [
       "<div>\n",
       "<table border=\"1\" class=\"dataframe\">\n",
       "  <thead>\n",
       "    <tr style=\"text-align: right;\">\n",
       "      <th></th>\n",
       "      <th>number</th>\n",
       "      <th>selftext</th>\n",
       "      <th>title</th>\n",
       "      <th>url</th>\n",
       "      <th>tokenized_selftext</th>\n",
       "      <th>stemmed_selftext</th>\n",
       "    </tr>\n",
       "  </thead>\n",
       "  <tbody>\n",
       "    <tr>\n",
       "      <th>0</th>\n",
       "      <td>43</td>\n",
       "      <td>As I'm sure many of you already know first-han...</td>\n",
       "      <td>Weekly Success Thread: Share your victories la...</td>\n",
       "      <td>https://www.reddit.com/r/Anxiety/comments/5s0g...</td>\n",
       "      <td>[As, I, sure, many, already, know, first-hand,...</td>\n",
       "      <td>[As, I, 'm, sure, many, of, you, already, know...</td>\n",
       "    </tr>\n",
       "    <tr>\n",
       "      <th>1</th>\n",
       "      <td>33</td>\n",
       "      <td>Greetings &amp; Salutations!\\n\\nUse this post to i...</td>\n",
       "      <td>Welcoming Newcomers &amp; Free Talk Thread - Febru...</td>\n",
       "      <td>https://www.reddit.com/r/Anxiety/comments/5sd5...</td>\n",
       "      <td>[Greetings, Salutations, Use, post, introduce,...</td>\n",
       "      <td>[Greetings, &amp;, Salutations, !, Use, this, post...</td>\n",
       "    </tr>\n",
       "    <tr>\n",
       "      <th>2</th>\n",
       "      <td>29</td>\n",
       "      <td>This happened to me last night. I ended up get...</td>\n",
       "      <td>Does anybody get anxious and cannot pinpoint a...</td>\n",
       "      <td>https://www.reddit.com/r/Anxiety/comments/5syv...</td>\n",
       "      <td>[This, happened, last, night, I, ended, gettin...</td>\n",
       "      <td>[This, happened, to, me, last, night, ., I, en...</td>\n",
       "    </tr>\n",
       "    <tr>\n",
       "      <th>3</th>\n",
       "      <td>2</td>\n",
       "      <td>Today, I got a call to an interview for a job,...</td>\n",
       "      <td>I turned down a job-trial.</td>\n",
       "      <td>https://www.reddit.com/r/Anxiety/comments/5szn...</td>\n",
       "      <td>[Today, I, got, call, interview, job, I, got, ...</td>\n",
       "      <td>[Today, ,, I, got, a, call, to, an, interview,...</td>\n",
       "    </tr>\n",
       "    <tr>\n",
       "      <th>4</th>\n",
       "      <td>6</td>\n",
       "      <td>My boyfriend and I have been together for two ...</td>\n",
       "      <td>Anxiety ended my relationship</td>\n",
       "      <td>https://www.reddit.com/r/Anxiety/comments/5t0j...</td>\n",
       "      <td>[My, boyfriend, I, together, two, years, part,...</td>\n",
       "      <td>[My, boyfriend, and, I, have, been, together, ...</td>\n",
       "    </tr>\n",
       "  </tbody>\n",
       "</table>\n",
       "</div>"
      ],
      "text/plain": [
       "   number                                           selftext  \\\n",
       "0      43  As I'm sure many of you already know first-han...   \n",
       "1      33  Greetings & Salutations!\\n\\nUse this post to i...   \n",
       "2      29  This happened to me last night. I ended up get...   \n",
       "3       2  Today, I got a call to an interview for a job,...   \n",
       "4       6  My boyfriend and I have been together for two ...   \n",
       "\n",
       "                                               title  \\\n",
       "0  Weekly Success Thread: Share your victories la...   \n",
       "1  Welcoming Newcomers & Free Talk Thread - Febru...   \n",
       "2  Does anybody get anxious and cannot pinpoint a...   \n",
       "3                         I turned down a job-trial.   \n",
       "4                      Anxiety ended my relationship   \n",
       "\n",
       "                                                 url  \\\n",
       "0  https://www.reddit.com/r/Anxiety/comments/5s0g...   \n",
       "1  https://www.reddit.com/r/Anxiety/comments/5sd5...   \n",
       "2  https://www.reddit.com/r/Anxiety/comments/5syv...   \n",
       "3  https://www.reddit.com/r/Anxiety/comments/5szn...   \n",
       "4  https://www.reddit.com/r/Anxiety/comments/5t0j...   \n",
       "\n",
       "                                  tokenized_selftext  \\\n",
       "0  [As, I, sure, many, already, know, first-hand,...   \n",
       "1  [Greetings, Salutations, Use, post, introduce,...   \n",
       "2  [This, happened, last, night, I, ended, gettin...   \n",
       "3  [Today, I, got, call, interview, job, I, got, ...   \n",
       "4  [My, boyfriend, I, together, two, years, part,...   \n",
       "\n",
       "                                    stemmed_selftext  \n",
       "0  [As, I, 'm, sure, many, of, you, already, know...  \n",
       "1  [Greetings, &, Salutations, !, Use, this, post...  \n",
       "2  [This, happened, to, me, last, night, ., I, en...  \n",
       "3  [Today, ,, I, got, a, call, to, an, interview,...  \n",
       "4  [My, boyfriend, and, I, have, been, together, ...  "
      ]
     },
     "execution_count": 7,
     "metadata": {},
     "output_type": "execute_result"
    }
   ],
   "source": [
    "posts.head(5)"
   ]
  },
  {
   "cell_type": "markdown",
   "metadata": {},
   "source": [
    "**Mimic user input similar to how it is done in the web app.**"
   ]
  },
  {
   "cell_type": "code",
   "execution_count": 8,
   "metadata": {
    "collapsed": false
   },
   "outputs": [],
   "source": [
    "def input_text(text):\n",
    "    text= text.translate(None, string.punctuation)\n",
    "    text= nltk.word_tokenize(text)\n",
    "    return text"
   ]
  },
  {
   "cell_type": "code",
   "execution_count": 9,
   "metadata": {
    "collapsed": false
   },
   "outputs": [],
   "source": [
    "text = 'Here\\'s an example of user input that the app would take in. The app strips out all punctuation, tokenizes it, and evaluates it for length.'\n",
    "input = input_text(text)"
   ]
  },
  {
   "cell_type": "markdown",
   "metadata": {},
   "source": [
    "** Create function that will do cosine similarities between two text examples.**"
   ]
  },
  {
   "cell_type": "code",
   "execution_count": 10,
   "metadata": {
    "collapsed": true
   },
   "outputs": [],
   "source": [
    "def cosine_sim(text1, text2):\n",
    "    vectorizer = TfidfVectorizer(analyzer = 'word', max_features = 75)\n",
    "    tfidf = vectorizer.fit_transform([text1, text2])\n",
    "    return ((tfidf * tfidf.T).A)[0,1]"
   ]
  },
  {
   "cell_type": "markdown",
   "metadata": {},
   "source": [
    "**Create an empty list to store similarity values, then create a loop where the user input is compared to reddit posts. Then append to the empty list.** Similarities are cosine similarities, multiplied by 100 to get a percentage. 100% means the input matches the reddit post 100%."
   ]
  },
  {
   "cell_type": "code",
   "execution_count": 11,
   "metadata": {
    "collapsed": false
   },
   "outputs": [],
   "source": [
    "similarity = []\n",
    "\n",
    "for i in range(len(posts)):\n",
    "    x = str(input)\n",
    "    y = str(posts['tokenized_selftext'][i])\n",
    "    z = cosine_sim(x,y)\n",
    "    z = z * 100\n",
    "    similarity.append(z)\n"
   ]
  },
  {
   "cell_type": "markdown",
   "metadata": {},
   "source": [
    "**The next part appends the similarities back on to the post, and sorts them in descending order.**"
   ]
  },
  {
   "cell_type": "code",
   "execution_count": 12,
   "metadata": {
    "collapsed": false
   },
   "outputs": [
    {
     "name": "stderr",
     "output_type": "stream",
     "text": [
      "/home/michelle/anaconda2/lib/python2.7/site-packages/ipykernel/__main__.py:4: FutureWarning: sort(columns=....) is deprecated, use sort_values(by=.....)\n"
     ]
    }
   ],
   "source": [
    "def sort_posts(df, column, similarities):\n",
    "    df = df.reset_index(drop = True)\n",
    "    df[column] = similarities\n",
    "    df[column] = df[column].round(decimals = 1)\n",
    "    df = posts.sort([column], ascending = False)\n",
    "\n",
    "\n",
    "\n"
   ]
  },
  {
   "cell_type": "code",
   "execution_count": 13,
   "metadata": {
    "collapsed": false
   },
   "outputs": [
    {
     "data": {
      "text/html": [
       "<div>\n",
       "<table border=\"1\" class=\"dataframe\">\n",
       "  <thead>\n",
       "    <tr style=\"text-align: right;\">\n",
       "      <th></th>\n",
       "      <th>number</th>\n",
       "      <th>selftext</th>\n",
       "      <th>title</th>\n",
       "      <th>url</th>\n",
       "      <th>tokenized_selftext</th>\n",
       "      <th>stemmed_selftext</th>\n",
       "      <th>similarity</th>\n",
       "    </tr>\n",
       "  </thead>\n",
       "  <tbody>\n",
       "    <tr>\n",
       "      <th>22</th>\n",
       "      <td>9</td>\n",
       "      <td>I wanted to talk a bit about my experience wit...</td>\n",
       "      <td>My Experience with Lexapro/Escitalopram</td>\n",
       "      <td>https://www.reddit.com/r/Anxiety/comments/5sy4...</td>\n",
       "      <td>[I, wanted, talk, bit, experience, lexapro, I,...</td>\n",
       "      <td>[I, wanted, to, talk, a, bit, about, my, exper...</td>\n",
       "      <td>12.3</td>\n",
       "    </tr>\n",
       "    <tr>\n",
       "      <th>45</th>\n",
       "      <td>4</td>\n",
       "      <td>In my own personal experience, it is highly im...</td>\n",
       "      <td>Your struggles are legitimate</td>\n",
       "      <td>https://www.reddit.com/r/Anxiety/comments/5sut...</td>\n",
       "      <td>[In, personal, experience, highly, important, ...</td>\n",
       "      <td>[In, my, own, personal, experience, ,, it, is,...</td>\n",
       "      <td>10.0</td>\n",
       "    </tr>\n",
       "    <tr>\n",
       "      <th>25</th>\n",
       "      <td>0</td>\n",
       "      <td>So the story starts out in middle school 6th g...</td>\n",
       "      <td>Help!</td>\n",
       "      <td>https://www.reddit.com/r/Anxiety/comments/5szv...</td>\n",
       "      <td>[So, story, starts, middle, school, 6th, grade...</td>\n",
       "      <td>[So, the, story, starts, out, in, middle, scho...</td>\n",
       "      <td>9.9</td>\n",
       "    </tr>\n",
       "    <tr>\n",
       "      <th>46</th>\n",
       "      <td>0</td>\n",
       "      <td>I don't know if this belongs here but I'm just...</td>\n",
       "      <td>Want to be happy but struggling</td>\n",
       "      <td>https://www.reddit.com/r/Anxiety/comments/5sxt...</td>\n",
       "      <td>[I, know, belongs, I, lost, right, Im, 18, yea...</td>\n",
       "      <td>[I, do, n't, know, if, this, belongs, here, bu...</td>\n",
       "      <td>8.2</td>\n",
       "    </tr>\n",
       "    <tr>\n",
       "      <th>32</th>\n",
       "      <td>1</td>\n",
       "      <td>I know therapy has its ups and downs, but I fe...</td>\n",
       "      <td>The never ending battle</td>\n",
       "      <td>https://www.reddit.com/r/Anxiety/comments/5sy6...</td>\n",
       "      <td>[I, know, therapy, ups, downs, I, feel, like, ...</td>\n",
       "      <td>[I, know, therapy, has, its, ups, and, downs, ...</td>\n",
       "      <td>8.1</td>\n",
       "    </tr>\n",
       "    <tr>\n",
       "      <th>20</th>\n",
       "      <td>0</td>\n",
       "      <td>I can't function as a human being, so I don't ...</td>\n",
       "      <td>Struggling...</td>\n",
       "      <td>https://www.reddit.com/r/Anxiety/comments/5t0d...</td>\n",
       "      <td>[I, ca, function, human, I, know, talk, Please...</td>\n",
       "      <td>[I, ca, n't, function, as, a, human, being, ,,...</td>\n",
       "      <td>7.0</td>\n",
       "    </tr>\n",
       "    <tr>\n",
       "      <th>31</th>\n",
       "      <td>1</td>\n",
       "      <td>(I'm not sure if this post belongs here as it'...</td>\n",
       "      <td>relationships + Anxiety</td>\n",
       "      <td>https://www.reddit.com/r/Anxiety/comments/5szh...</td>\n",
       "      <td>[I, not, sure, post, belongs, relationship, st...</td>\n",
       "      <td>[(, I, 'm, not, sure, if, this, post, belongs,...</td>\n",
       "      <td>6.7</td>\n",
       "    </tr>\n",
       "    <tr>\n",
       "      <th>16</th>\n",
       "      <td>13</td>\n",
       "      <td>The company I work for is... kinda bad on the ...</td>\n",
       "      <td>I wish my mental problems were a legitimate re...</td>\n",
       "      <td>https://www.reddit.com/r/Anxiety/comments/5svh...</td>\n",
       "      <td>[The, company, I, work, kinda, bad, human, res...</td>\n",
       "      <td>[The, company, I, work, for, is, ..., kinda, b...</td>\n",
       "      <td>6.6</td>\n",
       "    </tr>\n",
       "    <tr>\n",
       "      <th>26</th>\n",
       "      <td>2</td>\n",
       "      <td>Had a strong panic attack last week, the stron...</td>\n",
       "      <td>Just meditated successfully for the first time...</td>\n",
       "      <td>https://www.reddit.com/r/Anxiety/comments/5sv3...</td>\n",
       "      <td>[Had, strong, panic, attack, last, week, stron...</td>\n",
       "      <td>[Had, a, strong, panic, attack, last, week, ,,...</td>\n",
       "      <td>5.8</td>\n",
       "    </tr>\n",
       "    <tr>\n",
       "      <th>1</th>\n",
       "      <td>33</td>\n",
       "      <td>Greetings &amp; Salutations!\\n\\nUse this post to i...</td>\n",
       "      <td>Welcoming Newcomers &amp; Free Talk Thread - Febru...</td>\n",
       "      <td>https://www.reddit.com/r/Anxiety/comments/5sd5...</td>\n",
       "      <td>[Greetings, Salutations, Use, post, introduce,...</td>\n",
       "      <td>[Greetings, &amp;, Salutations, !, Use, this, post...</td>\n",
       "      <td>5.5</td>\n",
       "    </tr>\n",
       "  </tbody>\n",
       "</table>\n",
       "</div>"
      ],
      "text/plain": [
       "    number                                           selftext  \\\n",
       "22       9  I wanted to talk a bit about my experience wit...   \n",
       "45       4  In my own personal experience, it is highly im...   \n",
       "25       0  So the story starts out in middle school 6th g...   \n",
       "46       0  I don't know if this belongs here but I'm just...   \n",
       "32       1  I know therapy has its ups and downs, but I fe...   \n",
       "20       0  I can't function as a human being, so I don't ...   \n",
       "31       1  (I'm not sure if this post belongs here as it'...   \n",
       "16      13  The company I work for is... kinda bad on the ...   \n",
       "26       2  Had a strong panic attack last week, the stron...   \n",
       "1       33  Greetings & Salutations!\\n\\nUse this post to i...   \n",
       "\n",
       "                                                title  \\\n",
       "22            My Experience with Lexapro/Escitalopram   \n",
       "45                      Your struggles are legitimate   \n",
       "25                                              Help!   \n",
       "46                    Want to be happy but struggling   \n",
       "32                            The never ending battle   \n",
       "20                                      Struggling...   \n",
       "31                            relationships + Anxiety   \n",
       "16  I wish my mental problems were a legitimate re...   \n",
       "26  Just meditated successfully for the first time...   \n",
       "1   Welcoming Newcomers & Free Talk Thread - Febru...   \n",
       "\n",
       "                                                  url  \\\n",
       "22  https://www.reddit.com/r/Anxiety/comments/5sy4...   \n",
       "45  https://www.reddit.com/r/Anxiety/comments/5sut...   \n",
       "25  https://www.reddit.com/r/Anxiety/comments/5szv...   \n",
       "46  https://www.reddit.com/r/Anxiety/comments/5sxt...   \n",
       "32  https://www.reddit.com/r/Anxiety/comments/5sy6...   \n",
       "20  https://www.reddit.com/r/Anxiety/comments/5t0d...   \n",
       "31  https://www.reddit.com/r/Anxiety/comments/5szh...   \n",
       "16  https://www.reddit.com/r/Anxiety/comments/5svh...   \n",
       "26  https://www.reddit.com/r/Anxiety/comments/5sv3...   \n",
       "1   https://www.reddit.com/r/Anxiety/comments/5sd5...   \n",
       "\n",
       "                                   tokenized_selftext  \\\n",
       "22  [I, wanted, talk, bit, experience, lexapro, I,...   \n",
       "45  [In, personal, experience, highly, important, ...   \n",
       "25  [So, story, starts, middle, school, 6th, grade...   \n",
       "46  [I, know, belongs, I, lost, right, Im, 18, yea...   \n",
       "32  [I, know, therapy, ups, downs, I, feel, like, ...   \n",
       "20  [I, ca, function, human, I, know, talk, Please...   \n",
       "31  [I, not, sure, post, belongs, relationship, st...   \n",
       "16  [The, company, I, work, kinda, bad, human, res...   \n",
       "26  [Had, strong, panic, attack, last, week, stron...   \n",
       "1   [Greetings, Salutations, Use, post, introduce,...   \n",
       "\n",
       "                                     stemmed_selftext  similarity  \n",
       "22  [I, wanted, to, talk, a, bit, about, my, exper...        12.3  \n",
       "45  [In, my, own, personal, experience, ,, it, is,...        10.0  \n",
       "25  [So, the, story, starts, out, in, middle, scho...         9.9  \n",
       "46  [I, do, n't, know, if, this, belongs, here, bu...         8.2  \n",
       "32  [I, know, therapy, has, its, ups, and, downs, ...         8.1  \n",
       "20  [I, ca, n't, function, as, a, human, being, ,,...         7.0  \n",
       "31  [(, I, 'm, not, sure, if, this, post, belongs,...         6.7  \n",
       "16  [The, company, I, work, for, is, ..., kinda, b...         6.6  \n",
       "26  [Had, a, strong, panic, attack, last, week, ,,...         5.8  \n",
       "1   [Greetings, &, Salutations, !, Use, this, post...         5.5  "
      ]
     },
     "execution_count": 13,
     "metadata": {},
     "output_type": "execute_result"
    }
   ],
   "source": [
    "posts.head(10)"
   ]
  },
  {
   "cell_type": "markdown",
   "metadata": {},
   "source": [
    "**The next few lines of code creates a dictionary from the posts above.** This code specifically will be used in conjunction with `Flask` and will be called using `jinja` code on the appropriate webpage."
   ]
  },
  {
   "cell_type": "code",
   "execution_count": 14,
   "metadata": {
    "collapsed": false
   },
   "outputs": [],
   "source": [
    "posts_list = []\n",
    "for i in range(len(posts)):\n",
    "    posts_list.append(dict(title = posts.iloc[i]['title'],\n",
    "                           url = posts.iloc[i]['url'],\n",
    "                           number = posts.iloc[i]['number'],\n",
    "                           similarity = posts.iloc[i]['similarity']))"
   ]
  },
  {
   "cell_type": "code",
   "execution_count": 15,
   "metadata": {
    "collapsed": false
   },
   "outputs": [
    {
     "data": {
      "text/plain": [
       "[{'number': 9,\n",
       "  'similarity': 12.300000000000001,\n",
       "  'title': u'My Experience with Lexapro/Escitalopram',\n",
       "  'url': u'https://www.reddit.com/r/Anxiety/comments/5sy4ll/my_experience_with_lexaproescitalopram/'},\n",
       " {'number': 4,\n",
       "  'similarity': 10.0,\n",
       "  'title': u'Your struggles are legitimate',\n",
       "  'url': u'https://www.reddit.com/r/Anxiety/comments/5sut6k/your_struggles_are_legitimate/'},\n",
       " {'number': 0,\n",
       "  'similarity': 9.9000000000000004,\n",
       "  'title': u'Help!',\n",
       "  'url': u'https://www.reddit.com/r/Anxiety/comments/5szvt6/help/'},\n",
       " {'number': 0,\n",
       "  'similarity': 8.1999999999999993,\n",
       "  'title': u'Want to be happy but struggling',\n",
       "  'url': u'https://www.reddit.com/r/Anxiety/comments/5sxt55/want_to_be_happy_but_struggling/'},\n",
       " {'number': 1,\n",
       "  'similarity': 8.0999999999999996,\n",
       "  'title': u'The never ending battle',\n",
       "  'url': u'https://www.reddit.com/r/Anxiety/comments/5sy6g2/the_never_ending_battle/'}]"
      ]
     },
     "execution_count": 15,
     "metadata": {},
     "output_type": "execute_result"
    }
   ],
   "source": [
    "posts_list[0:5]"
   ]
  }
 ],
 "metadata": {
  "anaconda-cloud": {},
  "kernelspec": {
   "display_name": "Python [conda root]",
   "language": "python",
   "name": "conda-root-py"
  },
  "language_info": {
   "codemirror_mode": {
    "name": "ipython",
    "version": 2
   },
   "file_extension": ".py",
   "mimetype": "text/x-python",
   "name": "python",
   "nbconvert_exporter": "python",
   "pygments_lexer": "ipython2",
   "version": "2.7.12"
  }
 },
 "nbformat": 4,
 "nbformat_minor": 1
}
